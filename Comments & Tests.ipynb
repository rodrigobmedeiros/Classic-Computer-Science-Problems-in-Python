{
 "cells": [
  {
   "cell_type": "code",
   "execution_count": 15,
   "id": "05a6a72c",
   "metadata": {},
   "outputs": [],
   "source": [
    "from enum import IntEnum, Enum\n",
    "\n",
    "class Resultados(Enum):\n",
    "    \n",
    "    VITORIA = 1\n",
    "    EMPATE = 0\n",
    "    DERROTA = -1"
   ]
  },
  {
   "cell_type": "markdown",
   "id": "3777eaac",
   "metadata": {},
   "source": [
    "About `Enum` type, you can use as callable passing the value of each attribute or as hash passing the name of the attribute. Both cases you get an instance of the passed attribute."
   ]
  },
  {
   "cell_type": "code",
   "execution_count": null,
   "id": "e82e33a0",
   "metadata": {},
   "outputs": [],
   "source": []
  }
 ],
 "metadata": {
  "kernelspec": {
   "display_name": "Python 3",
   "language": "python",
   "name": "python3"
  },
  "language_info": {
   "codemirror_mode": {
    "name": "ipython",
    "version": 3
   },
   "file_extension": ".py",
   "mimetype": "text/x-python",
   "name": "python",
   "nbconvert_exporter": "python",
   "pygments_lexer": "ipython3",
   "version": "3.8.8"
  }
 },
 "nbformat": 4,
 "nbformat_minor": 5
}
